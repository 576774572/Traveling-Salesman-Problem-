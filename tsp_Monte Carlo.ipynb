{
 "cells": [
  {
   "cell_type": "code",
   "execution_count": 1,
   "id": "judicial-image",
   "metadata": {},
   "outputs": [],
   "source": [
    "import pandas as pd\n",
    "import numpy as np\n",
    "import matplotlib.pyplot as plt\n",
    "import math\n",
    "import datetime\n",
    "import warnings\n",
    "import pygad\n",
    "warnings.filterwarnings('ignore')"
   ]
  },
  {
   "cell_type": "code",
   "execution_count": 2,
   "id": "criminal-steps",
   "metadata": {
    "scrolled": true
   },
   "outputs": [
    {
     "data": {
      "text/html": [
       "<div>\n",
       "<style scoped>\n",
       "    .dataframe tbody tr th:only-of-type {\n",
       "        vertical-align: middle;\n",
       "    }\n",
       "\n",
       "    .dataframe tbody tr th {\n",
       "        vertical-align: top;\n",
       "    }\n",
       "\n",
       "    .dataframe thead th {\n",
       "        text-align: right;\n",
       "    }\n",
       "</style>\n",
       "<table border=\"1\" class=\"dataframe\">\n",
       "  <thead>\n",
       "    <tr style=\"text-align: right;\">\n",
       "      <th></th>\n",
       "      <th>x</th>\n",
       "      <th>y</th>\n",
       "    </tr>\n",
       "  </thead>\n",
       "  <tbody>\n",
       "    <tr>\n",
       "      <th>0</th>\n",
       "      <td>11003.6111</td>\n",
       "      <td>42102.5000</td>\n",
       "    </tr>\n",
       "    <tr>\n",
       "      <th>1</th>\n",
       "      <td>11108.6111</td>\n",
       "      <td>42373.8889</td>\n",
       "    </tr>\n",
       "    <tr>\n",
       "      <th>2</th>\n",
       "      <td>11133.3333</td>\n",
       "      <td>42885.8333</td>\n",
       "    </tr>\n",
       "    <tr>\n",
       "      <th>3</th>\n",
       "      <td>11155.8333</td>\n",
       "      <td>42712.5000</td>\n",
       "    </tr>\n",
       "    <tr>\n",
       "      <th>4</th>\n",
       "      <td>11183.3333</td>\n",
       "      <td>42933.3333</td>\n",
       "    </tr>\n",
       "    <tr>\n",
       "      <th>5</th>\n",
       "      <td>11297.5000</td>\n",
       "      <td>42853.3333</td>\n",
       "    </tr>\n",
       "    <tr>\n",
       "      <th>6</th>\n",
       "      <td>11310.2778</td>\n",
       "      <td>42929.4444</td>\n",
       "    </tr>\n",
       "    <tr>\n",
       "      <th>7</th>\n",
       "      <td>11416.6667</td>\n",
       "      <td>42983.3333</td>\n",
       "    </tr>\n",
       "    <tr>\n",
       "      <th>8</th>\n",
       "      <td>11423.8889</td>\n",
       "      <td>43000.2778</td>\n",
       "    </tr>\n",
       "    <tr>\n",
       "      <th>9</th>\n",
       "      <td>11438.3333</td>\n",
       "      <td>42057.2222</td>\n",
       "    </tr>\n",
       "    <tr>\n",
       "      <th>10</th>\n",
       "      <td>11461.1111</td>\n",
       "      <td>43252.7778</td>\n",
       "    </tr>\n",
       "    <tr>\n",
       "      <th>11</th>\n",
       "      <td>11485.5556</td>\n",
       "      <td>43187.2222</td>\n",
       "    </tr>\n",
       "    <tr>\n",
       "      <th>12</th>\n",
       "      <td>11503.0556</td>\n",
       "      <td>42855.2778</td>\n",
       "    </tr>\n",
       "    <tr>\n",
       "      <th>13</th>\n",
       "      <td>11511.3889</td>\n",
       "      <td>42106.3889</td>\n",
       "    </tr>\n",
       "    <tr>\n",
       "      <th>14</th>\n",
       "      <td>11522.2222</td>\n",
       "      <td>42841.9444</td>\n",
       "    </tr>\n",
       "    <tr>\n",
       "      <th>15</th>\n",
       "      <td>11569.4444</td>\n",
       "      <td>43136.6667</td>\n",
       "    </tr>\n",
       "    <tr>\n",
       "      <th>16</th>\n",
       "      <td>11583.3333</td>\n",
       "      <td>43150.0000</td>\n",
       "    </tr>\n",
       "    <tr>\n",
       "      <th>17</th>\n",
       "      <td>11595.0000</td>\n",
       "      <td>43148.0556</td>\n",
       "    </tr>\n",
       "    <tr>\n",
       "      <th>18</th>\n",
       "      <td>11600.0000</td>\n",
       "      <td>43150.0000</td>\n",
       "    </tr>\n",
       "    <tr>\n",
       "      <th>19</th>\n",
       "      <td>11690.5556</td>\n",
       "      <td>42686.6667</td>\n",
       "    </tr>\n",
       "    <tr>\n",
       "      <th>20</th>\n",
       "      <td>11715.8333</td>\n",
       "      <td>41836.1111</td>\n",
       "    </tr>\n",
       "    <tr>\n",
       "      <th>21</th>\n",
       "      <td>11751.1111</td>\n",
       "      <td>42814.4444</td>\n",
       "    </tr>\n",
       "    <tr>\n",
       "      <th>22</th>\n",
       "      <td>11770.2778</td>\n",
       "      <td>42651.9444</td>\n",
       "    </tr>\n",
       "    <tr>\n",
       "      <th>23</th>\n",
       "      <td>11785.2778</td>\n",
       "      <td>42884.4444</td>\n",
       "    </tr>\n",
       "    <tr>\n",
       "      <th>24</th>\n",
       "      <td>11822.7778</td>\n",
       "      <td>42673.6111</td>\n",
       "    </tr>\n",
       "    <tr>\n",
       "      <th>25</th>\n",
       "      <td>11846.9444</td>\n",
       "      <td>42660.5556</td>\n",
       "    </tr>\n",
       "    <tr>\n",
       "      <th>26</th>\n",
       "      <td>11963.0556</td>\n",
       "      <td>43290.5556</td>\n",
       "    </tr>\n",
       "    <tr>\n",
       "      <th>27</th>\n",
       "      <td>11973.0556</td>\n",
       "      <td>43026.1111</td>\n",
       "    </tr>\n",
       "    <tr>\n",
       "      <th>28</th>\n",
       "      <td>12058.3333</td>\n",
       "      <td>42195.5556</td>\n",
       "    </tr>\n",
       "    <tr>\n",
       "      <th>29</th>\n",
       "      <td>12149.4444</td>\n",
       "      <td>42477.5000</td>\n",
       "    </tr>\n",
       "    <tr>\n",
       "      <th>30</th>\n",
       "      <td>12286.9444</td>\n",
       "      <td>43355.5556</td>\n",
       "    </tr>\n",
       "    <tr>\n",
       "      <th>31</th>\n",
       "      <td>12300.0000</td>\n",
       "      <td>42433.3333</td>\n",
       "    </tr>\n",
       "    <tr>\n",
       "      <th>32</th>\n",
       "      <td>12355.8333</td>\n",
       "      <td>43156.3889</td>\n",
       "    </tr>\n",
       "    <tr>\n",
       "      <th>33</th>\n",
       "      <td>12363.3333</td>\n",
       "      <td>43189.1667</td>\n",
       "    </tr>\n",
       "    <tr>\n",
       "      <th>34</th>\n",
       "      <td>12372.7778</td>\n",
       "      <td>42711.3889</td>\n",
       "    </tr>\n",
       "    <tr>\n",
       "      <th>35</th>\n",
       "      <td>12386.6667</td>\n",
       "      <td>43334.7222</td>\n",
       "    </tr>\n",
       "    <tr>\n",
       "      <th>36</th>\n",
       "      <td>12421.6667</td>\n",
       "      <td>42895.5556</td>\n",
       "    </tr>\n",
       "    <tr>\n",
       "      <th>37</th>\n",
       "      <td>12645.0000</td>\n",
       "      <td>42973.3333</td>\n",
       "    </tr>\n",
       "  </tbody>\n",
       "</table>\n",
       "</div>"
      ],
      "text/plain": [
       "             x           y\n",
       "0   11003.6111  42102.5000\n",
       "1   11108.6111  42373.8889\n",
       "2   11133.3333  42885.8333\n",
       "3   11155.8333  42712.5000\n",
       "4   11183.3333  42933.3333\n",
       "5   11297.5000  42853.3333\n",
       "6   11310.2778  42929.4444\n",
       "7   11416.6667  42983.3333\n",
       "8   11423.8889  43000.2778\n",
       "9   11438.3333  42057.2222\n",
       "10  11461.1111  43252.7778\n",
       "11  11485.5556  43187.2222\n",
       "12  11503.0556  42855.2778\n",
       "13  11511.3889  42106.3889\n",
       "14  11522.2222  42841.9444\n",
       "15  11569.4444  43136.6667\n",
       "16  11583.3333  43150.0000\n",
       "17  11595.0000  43148.0556\n",
       "18  11600.0000  43150.0000\n",
       "19  11690.5556  42686.6667\n",
       "20  11715.8333  41836.1111\n",
       "21  11751.1111  42814.4444\n",
       "22  11770.2778  42651.9444\n",
       "23  11785.2778  42884.4444\n",
       "24  11822.7778  42673.6111\n",
       "25  11846.9444  42660.5556\n",
       "26  11963.0556  43290.5556\n",
       "27  11973.0556  43026.1111\n",
       "28  12058.3333  42195.5556\n",
       "29  12149.4444  42477.5000\n",
       "30  12286.9444  43355.5556\n",
       "31  12300.0000  42433.3333\n",
       "32  12355.8333  43156.3889\n",
       "33  12363.3333  43189.1667\n",
       "34  12372.7778  42711.3889\n",
       "35  12386.6667  43334.7222\n",
       "36  12421.6667  42895.5556\n",
       "37  12645.0000  42973.3333"
      ]
     },
     "execution_count": 2,
     "metadata": {},
     "output_type": "execute_result"
    }
   ],
   "source": [
    "df = pd.read_csv('dj38.tsp', sep=\" \", skiprows=10, header=None)\n",
    "df=df.drop(df.columns[[0]], axis = 1)\n",
    "df.columns=list(['x','y'])\n",
    "df_ = np.asarray(df)\n",
    "df"
   ]
  },
  {
   "cell_type": "code",
   "execution_count": 3,
   "id": "antique-debate",
   "metadata": {},
   "outputs": [],
   "source": [
    "# calculate the distance \n",
    "def distance(route):\n",
    "    distance=0\n",
    "    for i in range(len(route)-1):\n",
    "        p=df_[route[i+1]]-df_[route[i]]\n",
    "        dis=math.hypot(p[0],p[1])\n",
    "        distance=distance+dis\n",
    "    p=df_[route[-1]]-df_[route[0]]\n",
    "    # distance between last and fist city\n",
    "    distance=distance+math.hypot(p[0],p[1])\n",
    "    return distance"
   ]
  },
  {
   "cell_type": "code",
   "execution_count": 4,
   "id": "explicit-footage",
   "metadata": {},
   "outputs": [],
   "source": [
    "# plot the route\n",
    "def plot_route(route_best):\n",
    "    df_route=df.iloc[route_best]\n",
    "    df_route.loc['origin'] =df_route.iloc[0]\n",
    "    cities_route = np.asarray(df_route)\n",
    "\n",
    "    plt.scatter(df_[:,0],df_[:,1])\n",
    "    plt.plot(cities_route[:,0],cities_route[:,1])\n",
    "    plt.show()\n",
    "    print(\"Route: \" + str(route_best) + \"\\n\\nDistance_scaled: \"+ str(distance(route_best)) )"
   ]
  },
  {
   "cell_type": "code",
   "execution_count": 5,
   "id": "critical-translation",
   "metadata": {},
   "outputs": [],
   "source": [
    "def Monte_Carlo(N):\n",
    "    time_start=datetime.datetime.now()\n",
    "    print(\"start:\",time_start)   \n",
    "    #dis_min=distance(np.arange(df.shape[0]))\n",
    "    #dis_min=distance(np.random.choice(df.shape[0],df.shape[0],replace=False))\n",
    "    dis_min=100000000\n",
    "    dis_min_distribution=[]\n",
    "    route_best=0\n",
    "    for i in range(0,N):\n",
    "        # Monte Carlo sampling  \n",
    "        route=np.random.choice(df.shape[0],df.shape[0],replace=False)\n",
    "        dis=distance(route)\n",
    "        if dis  < dis_min:\n",
    "            dis_min=dis\n",
    "            route_best=route\n",
    "            print(\"route_best\",route_best)   \n",
    "            print(\"dis_min\",dis_min)           \n",
    "        dis_min_distribution.append(dis_min)    \n",
    "        \n",
    "    time_end=datetime.datetime.now()\n",
    "    duration=time_end-time_start\n",
    "    print(\"end:\",time_end)\n",
    "    print(\"duration:\",duration)\n",
    "    \n",
    "    return route_best,dis_min_distribution,duration"
   ]
  },
  {
   "cell_type": "code",
   "execution_count": 6,
   "id": "proper-option",
   "metadata": {},
   "outputs": [
    {
     "name": "stdout",
     "output_type": "stream",
     "text": [
      "start: 2022-01-02 18:49:23.523393\n",
      "route_best [ 0 28 11 17 20  1 25 37  4 35 19 10 27 14 24 26 18  5  7 31  8 21 33 23\n",
      " 16 13 22 30 36  2 34  3 29  9 15 12  6 32]\n",
      "dis_min 30543.01216567015\n",
      "route_best [12 18 26 31  4 20  7 11  5 32 28 27 25 16 24 23 34 15 22 29 36 19 37  6\n",
      "  9 30  2  0 17  3 10  1 21 33  8 35 14 13]\n",
      "dis_min 30347.3966802772\n",
      "route_best [26  2 11 22  3 28 30 15 31  7 17 29 32 10 36 19  4 27 33 37 24 13  8 12\n",
      "  0 25 21 35  1  5 20 14 16  6 23  9 34 18]\n",
      "dis_min 28481.242481172572\n",
      "route_best [22  0 35 32 34  5 19 13 15  6  3 10 24 16  2 21 27  1 30 31 26 11 37 29\n",
      " 33 17 28 36  4 14 23  7 12  9  8 25 18 20]\n",
      "dis_min 28010.419917686322\n",
      "route_best [ 8  9 35 33 31 10 28 34 14 18 29 23 15  5 12  3 26  6  7 25  4 13 32 24\n",
      " 21 20 37 30  0  1 11 19 36 16 22 17 27  2]\n",
      "dis_min 27306.04714480165\n",
      "route_best [17 35  7 12 31 11 14  1  6 30 16 23  4 26  0 15 29 13  2  3 36 20 37 34\n",
      " 27  5 10 33 32 21  8 18 22 28 24 19  9 25]\n",
      "dis_min 26494.61769361078\n",
      "route_best [10 34  8 29 14 24 25 21 20  0 31 36  9 19 18 17 23 30 37  2 15  1 12 22\n",
      " 28 13 27 26 35  5 11  3 32  7 33  6  4 16]\n",
      "dis_min 25626.75219745729\n",
      "route_best [22 29  9  1 17 24 19 30 26 35 31 20 16  2 15 25 12  8 18 32 28  6 11  3\n",
      " 14 34 27 36 37 23  7 21  0 10  4  5 33 13]\n",
      "dis_min 24069.042700363527\n",
      "route_best [ 1 14  4 34 26 30 25  3 21 11  5 18 28 20 13  9  6 15 32 36  0  8 16 10\n",
      " 37  7 19 29 35 33 31 24  2 27 12 23 17 22]\n",
      "dis_min 23463.30984346174\n",
      "route_best [ 1  0 12 34 36 17 33 31 35  3 28 27  7  6 16 24 18 23 21 14  9 37 32 30\n",
      " 15 13 19 29 22 26 25 10  2  4  5  8 11 20]\n",
      "dis_min 22993.614231834963\n",
      "route_best [37  9 20 14 12  7  5 19 28 13 34 25  8 10  6 11  0 22 29 24 31 21  1 17\n",
      "  4 32 27 26 36 23 15  3 16 18 35 30  2 33]\n",
      "dis_min 22613.136584935502\n",
      "route_best [18 32 36 34 25 30 35 37  1  9 33  7 23  6  8  4 15  5 26 28 12 24  2 27\n",
      " 14  0 13  3 16 17 10 11 19 20 31 29 21 22]\n",
      "dis_min 21479.013552318585\n",
      "route_best [21 19 20 36 32 16 31 17 27 33 23 22 25  2  7  4 37 26  3 15 10  6 30 35\n",
      " 34 24 29 28 13  1  5 11 12 18  8 14  0  9]\n",
      "dis_min 20885.424132110715\n",
      "route_best [26 11  1  2 27 30 36 32 23 33 34 31 13  9  4 17 22 24 29  3 14  5 37  7\n",
      " 10  6 18 21 12  8 19 25  0 20 28 35 15 16]\n",
      "dis_min 20568.926108466483\n",
      "route_best [33 32 35 15 16 28 29 11 10 12 27 18  5 14 23 24 26  4  0 20 13  7 17  9\n",
      "  3 31  8  2  6  1 25 21 19 36 34 22 30 37]\n",
      "dis_min 20010.66140303115\n",
      "route_best [17 33 32 35 37 36 31 25 10 22 24  8  2 11  0 20 29 34 21 19  3  7  6 26\n",
      " 27 23 15 30 12 18 16  9  1  4  5 14 13 28]\n",
      "dis_min 18649.639967298306\n",
      "end: 2022-01-02 18:50:59.244272\n",
      "duration: 0:01:35.720879\n"
     ]
    }
   ],
   "source": [
    "N=1000000\n",
    "route_best,dis_min_distribution,duration=Monte_Carlo(N)"
   ]
  },
  {
   "cell_type": "code",
   "execution_count": 7,
   "id": "japanese-glossary",
   "metadata": {},
   "outputs": [
    {
     "data": {
      "text/plain": [
       "array([17, 33, 32, 35, 37, 36, 31, 25, 10, 22, 24,  8,  2, 11,  0, 20, 29,\n",
       "       34, 21, 19,  3,  7,  6, 26, 27, 23, 15, 30, 12, 18, 16,  9,  1,  4,\n",
       "        5, 14, 13, 28])"
      ]
     },
     "execution_count": 7,
     "metadata": {},
     "output_type": "execute_result"
    }
   ],
   "source": [
    "route_best"
   ]
  },
  {
   "cell_type": "code",
   "execution_count": 8,
   "id": "equal-mambo",
   "metadata": {},
   "outputs": [
    {
     "data": {
      "text/plain": [
       "18649.639967298306"
      ]
     },
     "execution_count": 8,
     "metadata": {},
     "output_type": "execute_result"
    }
   ],
   "source": [
    "distance(route_best)"
   ]
  },
  {
   "cell_type": "code",
   "execution_count": 9,
   "id": "improving-miniature",
   "metadata": {},
   "outputs": [
    {
     "data": {
      "text/plain": [
       "Text(0, 0.5, 'distance')"
      ]
     },
     "execution_count": 9,
     "metadata": {},
     "output_type": "execute_result"
    },
    {
     "data": {
      "image/png": "[encoded data removed]",
      "text/plain": [
       "<Figure size 432x288 with 1 Axes>"
      ]
     },
     "metadata": {
      "needs_background": "light"
     },
     "output_type": "display_data"
    }
   ],
   "source": [
    "dis_shortest,=plt.plot(range(N),dis_min_distribution)\n",
    "plt.xlabel(\"iteration\")\n",
    "plt.ylabel(\"distance\")"
   ]
  },
  {
   "cell_type": "code",
   "execution_count": 10,
   "id": "connected-creator",
   "metadata": {},
   "outputs": [
    {
     "data": {
      "image/png": "[encoded data removed]",
      "text/plain": [
       "<Figure size 432x288 with 1 Axes>"
      ]
     },
     "metadata": {
      "needs_background": "light"
     },
     "output_type": "display_data"
    },
    {
     "name": "stdout",
     "output_type": "stream",
     "text": [
      "Route: [17 33 32 35 37 36 31 25 10 22 24  8  2 11  0 20 29 34 21 19  3  7  6 26\n",
      " 27 23 15 30 12 18 16  9  1  4  5 14 13 28]\n",
      "\n",
      "Distance_scaled: 18649.639967298306\n"
     ]
    }
   ],
   "source": [
    "plot_route(route_best)"
   ]
  }
 ],
 "metadata": {
  "kernelspec": {
   "display_name": "Python 3",
   "language": "python",
   "name": "python3"
  },
  "language_info": {
   "codemirror_mode": {
    "name": "ipython",
    "version": 3
   },
   "file_extension": ".py",
   "mimetype": "text/x-python",
   "name": "python",
   "nbconvert_exporter": "python",
   "pygments_lexer": "ipython3",
   "version": "3.6.4"
  },
  "toc": {
   "base_numbering": 1,
   "nav_menu": {},
   "number_sections": true,
   "sideBar": true,
   "skip_h1_title": false,
   "title_cell": "Table of Contents",
   "title_sidebar": "Contents",
   "toc_cell": false,
   "toc_position": {},
   "toc_section_display": true,
   "toc_window_display": false
  }
 },
 "nbformat": 4,
 "nbformat_minor": 5
}
